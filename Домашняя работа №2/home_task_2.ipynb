{
  "cells": [
    {
      "attachments": {},
      "cell_type": "markdown",
      "metadata": {
        "id": "4xpLf7QabT9p"
      },
      "source": [
        "## Домашняя работа №2\n",
        "### С помощью кода, аналогичного приведенному в материалах, посмотрите на SNP, появляющиеся в вашем гене из 1 задания. Загрузите 3 любых понравившихся варианта, как описано.\n",
        "### В таблицу гена, полученную по итогам практического задания первого урока, добавьте следующую информацию: количество rs для выбранного гена."
      ]
    },
    {
      "cell_type": "code",
      "execution_count": 65,
      "metadata": {},
      "outputs": [],
      "source": [
        "import pandas as pd"
      ]
    },
    {
      "cell_type": "code",
      "execution_count": 24,
      "metadata": {
        "id": "JmF7j-tMr2HJ"
      },
      "outputs": [],
      "source": [
        "from Bio.Seq import MutableSeq\n",
        "seq_sl = 'CTCTCGGTCTGTGGCAGCAGCGTTGGCCCGGCCCCGGGAGCGGAGAGCGAGGGGAGGCGGAGACGGAGGAAGGTCTGAGGAGCAGCTTCAGTCCCC'\n",
        "mutable_seq = MutableSeq(seq_sl)"
      ]
    },
    {
      "cell_type": "code",
      "execution_count": 25,
      "metadata": {},
      "outputs": [
        {
          "data": {
            "text/plain": [
              "MutableSeq('LSVCGSSVGPAPGAESEGRRRRRKV*GAASVP')"
            ]
          },
          "execution_count": 25,
          "metadata": {},
          "output_type": "execute_result"
        }
      ],
      "source": [
        "mutable_seq.transcribe().translate()"
      ]
    },
    {
      "cell_type": "code",
      "execution_count": 26,
      "metadata": {
        "id": "LpKdqMogbbRl"
      },
      "outputs": [],
      "source": [
        "mutable_seq[4] = \"A\""
      ]
    },
    {
      "cell_type": "code",
      "execution_count": 27,
      "metadata": {},
      "outputs": [
        {
          "data": {
            "text/plain": [
              "MutableSeq('CTCTAGGTCTGTGGCAGCAGCGTTGGCCCGGCCCCGGGAGCGGAGAGCGAGGGG...CCC')"
            ]
          },
          "execution_count": 27,
          "metadata": {},
          "output_type": "execute_result"
        }
      ],
      "source": [
        "mutable_seq"
      ]
    },
    {
      "cell_type": "code",
      "execution_count": 30,
      "metadata": {
        "id": "CsdxgrVNbe8a"
      },
      "outputs": [
        {
          "data": {
            "text/plain": [
              "MutableSeq('L*VCGSSVGPAPGAESEGRRRRRKV*GAASVP')"
            ]
          },
          "execution_count": 30,
          "metadata": {},
          "output_type": "execute_result"
        }
      ],
      "source": [
        "mutable_seq.transcribe().translate()"
      ]
    },
    {
      "cell_type": "code",
      "execution_count": 31,
      "metadata": {
        "colab": {
          "base_uri": "https://localhost:8080/"
        },
        "id": "boVbVbGtBTOu",
        "outputId": "a9801276-6369-4d14-989c-b9da88ab84e5"
      },
      "outputs": [],
      "source": [
        "# install biopython on Jupyter server.\n",
        "import sys\n",
        "#!python -m pip install biopython"
      ]
    },
    {
      "cell_type": "code",
      "execution_count": 13,
      "metadata": {
        "id": "XYLOkkyoeJ1s"
      },
      "outputs": [],
      "source": [
        "import time\n",
        "from Bio import Entrez"
      ]
    },
    {
      "cell_type": "code",
      "execution_count": 55,
      "metadata": {
        "id": "PmFU-uZwFnmv"
      },
      "outputs": [],
      "source": [
        "Entrez.email = \"aspirantsv1@gmail.com\" # provide your user email \n",
        "# RECOMMENDED: apply for API key from NCBI (https://ncbiinsights.ncbi.nlm.nih.gov/2017/11/02/new-api-keys-for-the-e-utilities/). \n",
        "# 10 queries per second with a valid API key, otherwise 3 queries per seconds are allowed for 'None'\n",
        "Entrez.api_key = None\n",
        "\n",
        "# dbSNP supported query terms (https://www.ncbi.nlm.nih.gov/snp/docs/entrez_help/) can be build and test online using web query builder (https://www.ncbi.nlm.nih.gov/snp/advanced) \n",
        "# esearch handle\n",
        "eShandle = Entrez.esearch(db=\"snp\",  # search dbSNP\n",
        "                          #complex query for missense and pathogenic variants in LPL gene with global MAF betweeen 0 and 0.01.\n",
        "                          term='CTNNB1[All Fields] AND pathogenic[Clinical_Significance] AND missense variant[Function_Class]', \n",
        "                          usehistory=\"y\", #cache result on server for download in batches\n",
        "                          retmax=20 # return 20 RSID max\n",
        "                         )\n"
      ]
    },
    {
      "cell_type": "code",
      "execution_count": 56,
      "metadata": {
        "id": "KhWgJuKKFq-M"
      },
      "outputs": [],
      "source": [
        "\n",
        "# get esearch result\n",
        "eSresult = Entrez.read(eShandle)"
      ]
    },
    {
      "cell_type": "code",
      "execution_count": 57,
      "metadata": {
        "colab": {
          "base_uri": "https://localhost:8080/"
        },
        "id": "2DMfDQcsFv60",
        "outputId": "5fd31299-5534-4f22-a28f-a30a064f1441"
      },
      "outputs": [
        {
          "name": "stdout",
          "output_type": "stream",
          "text": [
            "Count : 59\n",
            "RetMax : 20\n",
            "RetStart : 0\n",
            "QueryKey : 1\n",
            "WebEnv : MCID_63e12ef030dc2358b63c0740\n",
            "IdList : ['2125628072', '2125623075', '2125620433', '2125617982', '2125617859', '2078436466', '2078162308', '2078159952', '2078151590', '2078133150', '1575334103', '1559474557', '1559474364', '1559474040', '1553632412', '1553631860', '1553630472', '1553630279', '1454068577', '1064796453']\n",
            "TranslationSet : []\n",
            "TranslationStack : [{'Term': 'CTNNB1[All Fields]', 'Field': 'All Fields', 'Count': '19470', 'Explode': 'N'}, {'Term': 'pathogenic[Clinical_Significance]', 'Field': 'Clinical_Significance', 'Count': '130269', 'Explode': 'N'}, 'AND', {'Term': 'missense variant[Function_Class]', 'Field': 'Function_Class', 'Count': '10256260', 'Explode': 'N'}, 'AND']\n",
            "QueryTranslation : CTNNB1[All Fields] AND pathogenic[Clinical_Significance] AND missense variant[Function_Class]\n"
          ]
        }
      ],
      "source": [
        "# review results \n",
        "for k in eSresult:\n",
        "    print (k, \":\", eSresult[k])\n",
        "    \n",
        "#Output: Web environment (&WebEnv) and query key (&query_key) parameters specifying the location on the Entrez history server of the list of UIDs matching the Entrez query\n",
        "#https://www.ncbi.nlm.nih.gov/books/NBK25500/#chapter1.Storing_Search_Results\n",
        "    "
      ]
    },
    {
      "cell_type": "code",
      "execution_count": 58,
      "metadata": {
        "id": "wL4H3O0TFyfZ"
      },
      "outputs": [
        {
          "data": {
            "text/plain": [
              "['2125628072', '2125623075', '2125620433', '2125617982', '2125617859', '2078436466', '2078162308', '2078159952', '2078151590', '2078133150', '1575334103', '1559474557', '1559474364', '1559474040', '1553632412', '1553631860', '1553630472', '1553630279', '1454068577', '1064796453']"
            ]
          },
          "execution_count": 58,
          "metadata": {},
          "output_type": "execute_result"
        }
      ],
      "source": [
        "# get result RSIDs list 'Idlist'\n",
        "# total rs count \n",
        "rslist = (eSresult['IdList'])\n",
        "rslist"
      ]
    },
    {
      "cell_type": "code",
      "execution_count": 59,
      "metadata": {
        "colab": {
          "base_uri": "https://localhost:8080/"
        },
        "id": "OmgNejoBF33W",
        "outputId": "43cb47d0-de86-4bbc-8b86-25f09347660f"
      },
      "outputs": [
        {
          "name": "stdout",
          "output_type": "stream",
          "text": [
            "2125628072\n",
            "2125623075\n",
            "2125620433\n",
            "2125617982\n",
            "2125617859\n",
            "2078436466\n",
            "2078162308\n",
            "2078159952\n",
            "2078151590\n",
            "2078133150\n",
            "1575334103\n",
            "1559474557\n",
            "1559474364\n",
            "1559474040\n",
            "1553632412\n",
            "1553631860\n",
            "1553630472\n",
            "1553630279\n",
            "1454068577\n",
            "1064796453\n"
          ]
        }
      ],
      "source": [
        "# retmax = 20 so print only 20 RSIDs\n",
        "# additional results can be retrieved by batches\n",
        "# download in batches example http://biopython.org/DIST/docs/tutorial/Tutorial.html#htoc139 or see below.\n",
        "for rs in rslist:\n",
        "    print(rs)"
      ]
    },
    {
      "cell_type": "code",
      "execution_count": 60,
      "metadata": {
        "id": "u02kLhsSF692"
      },
      "outputs": [],
      "source": [
        "# get the WebEnv session cookie, and the QueryKey:\n",
        "\n",
        "webenv = eSresult[\"WebEnv\"]\n",
        "query_key = eSresult[\"QueryKey\"]\n",
        "total_count = int(eSresult[\"Count\"])\n",
        "query_key = eSresult[\"QueryKey\"]\n",
        "retmax = 2 # return 2 rs per batch example"
      ]
    },
    {
      "attachments": {},
      "cell_type": "markdown",
      "metadata": {},
      "source": [
        "Чтобы не получить большого вывода информации поставлю вместо total_count, 10"
      ]
    },
    {
      "cell_type": "code",
      "execution_count": 64,
      "metadata": {
        "colab": {
          "base_uri": "https://localhost:8080/"
        },
        "id": "j0sesSyeF8Zn",
        "outputId": "6a5b80a7-a7ab-466b-b77a-8cae76b2b68e"
      },
      "outputs": [
        {
          "name": "stdout",
          "output_type": "stream",
          "text": [
            "Going to download record 1 to 2\n",
            "b'<?xml version=\"1.0\" ?>\\n<ExchangeSet xmlns:xsi=\"https://www.w3.org/2001/XMLSchema-instance\" xmlns=\"https://www.ncbi.nlm.nih.gov/SNP/docsum\" xsi:schemaLocation=\"https://www.ncbi.nlm.nih.gov/SNP/docsum ftp://ftp.ncbi.nlm.nih.gov/snp/specs/docsum_eutils.xsd\" ><DocumentSummary uid=\"2125628072\"><SNP_ID>2125628072</SNP_ID><ALLELE_ORIGIN/><GLOBAL_MAFS/><GLOBAL_POPULATION/><GLOBAL_SAMPLESIZE>0</GLOBAL_SAMPLESIZE><SUSPECTED/><CLINICAL_SIGNIFICANCE>pathogenic</CLINICAL_SIGNIFICANCE><GENES><GENE_E><NAME>CTNNB1</NAME><GENE_ID>1499</GENE_ID></GENE_E></GENES><ACC>NC_000003.12</ACC><CHR>3</CHR><HANDLE>EVA</HANDLE><SPDI>NC_000003.12:41227303:A:G,NC_000003.12:41227303:A:T</SPDI><FXN_CLASS>missense_variant,coding_sequence_variant,stop_gained</FXN_CLASS><VALIDATED/><DOCSUM>HGVS=NC_000003.12:g.41227304A&gt;G,NC_000003.12:g.41227304A&gt;T,NC_000003.11:g.41268795A&gt;G,NC_000003.11:g.41268795A&gt;T,NG_013302.2:g.32854A&gt;G,NG_013302.2:g.32854A&gt;T,NM_001904.4:c.1033A&gt;G,NM_001904.4:c.1033A&gt;T,NM_001904.3:c.1033A&gt;G,NM_001904.3:c.1033A&gt;T,NM_001330729.2:c.1012A&gt;G,NM_001330729.2:c.1012A&gt;T,NM_001330729.1:c.1012A&gt;G,NM_001330729.1:c.1012A&gt;T,NM_001098209.2:c.1033A&gt;G,NM_001098209.2:c.1033A&gt;T,NM_001098209.1:c.1033A&gt;G,NM_001098209.1:c.1033A&gt;T,NM_001098210.2:c.1033A&gt;G,NM_001098210.2:c.1033A&gt;T,NM_001098210.1:c.1033A&gt;G,NM_001098210.1:c.1033A&gt;T,XM_024453356.2:c.1033A&gt;G,XM_024453356.2:c.1033A&gt;T,XM_024453356.1:c.1033A&gt;G,XM_024453356.1:c.1033A&gt;T,XM_017005738.2:c.1033A&gt;G,XM_017005738.2:c.1033A&gt;T,XM_017005738.1:c.1033A&gt;G,XM_017005738.1:c.1033A&gt;T,XM_006712985.2:c.1033A&gt;G,XM_006712985.2:c.1033A&gt;T,XM_006712985.1:c.1033A&gt;G,XM_006712985.1:c.1033A&gt;T,XM_047447482.1:c.1012A&gt;G,XM_047447482.1:c.1012A&gt;T,XM_047447479.1:c.1033A&gt;G,XM_047447479.1:c.1033A&gt;T,XM_047447478.1:c.1033A&gt;G,XM_047447478.1:c.1033A&gt;T,XM_047447480.1:c.1033A&gt;G,XM_047447480.1:c.1033A&gt;T,XM_047447481.1:c.1033A&gt;G,XM_047447481.1:c.1033A&gt;T,XM_047447477.1:c.1033A&gt;G,XM_047447477.1:c.1033A&gt;T,XM_047447483.1:c.1033A&gt;G,XM_047447483.1:c.1033A&gt;T,NP_001895.1:p.Lys345Glu,NP_001895.1:p.Lys345Ter,NP_001317658.1:p.Lys338Glu,NP_001317658.1:p.Lys338Ter,NP_001091679.1:p.Lys345Glu,NP_001091679.1:p.Lys345Ter,NP_001091680.1:p.Lys345Glu,NP_001091680.1:p.Lys345Ter,XP_024309124.1:p.Lys345Glu,XP_024309124.1:p.Lys345Ter,XP_016861227.1:p.Lys345Glu,XP_016861227.1:p.Lys345Ter,XP_006713048.1:p.Lys345Glu,XP_006713048.1:p.Lys345Ter,XP_047303438.1:p.Lys338Glu,XP_047303438.1:p.Lys338Ter,XP_047303435.1:p.Lys345Glu,XP_047303435.1:p.Lys345Ter,XP_047303434.1:p.Lys345Glu,XP_047303434.1:p.Lys345Ter,XP_047303436.1:p.Lys345Glu,XP_047303436.1:p.Lys345Ter,XP_047303437.1:p.Lys345Glu,XP_047303437.1:p.Lys345Ter,XP_047303433.1:p.Lys345Glu,XP_047303433.1:p.Lys345Ter,XP_047303439.1:p.Lys345Glu,XP_047303439.1:p.Lys345Ter|SEQ=[A/G/T]|LEN=1|GENE=CTNNB1:1499</DOCSUM><TAX_ID>9606</TAX_ID><ORIG_BUILD>156</ORIG_BUILD><UPD_BUILD>156</UPD_BUILD><CREATEDATE>2022/10/13 20:54</CREATEDATE><UPDATEDATE>2022/10/13 20:54</UPDATEDATE><SS>5935644137</SS><ALLELE>D</ALLELE><SNP_CLASS>snv</SNP_CLASS><CHRPOS>3:41227304</CHRPOS><CHRPOS_PREV_ASSM>3:41268795</CHRPOS_PREV_ASSM><TEXT/><SNP_ID_SORT>2125628072</SNP_ID_SORT><CLINICAL_SORT>1</CLINICAL_SORT><CITED_SORT/><CHRPOS_SORT>0041227304</CHRPOS_SORT><MERGED_SORT>0</MERGED_SORT></DocumentSummary>\\n<DocumentSummary uid=\"2125623075\"><SNP_ID>2125623075</SNP_ID><ALLELE_ORIGIN/><GLOBAL_MAFS/><GLOBAL_POPULATION/><GLOBAL_SAMPLESIZE>0</GLOBAL_SAMPLESIZE><SUSPECTED/><CLINICAL_SIGNIFICANCE>pathogenic</CLINICAL_SIGNIFICANCE><GENES><GENE_E><NAME>CTNNB1</NAME><GENE_ID>1499</GENE_ID></GENE_E></GENES><ACC>NC_000003.12</ACC><CHR>3</CHR><HANDLE>None</HANDLE><SPDI>NC_000003.12:41225483:G:A</SPDI><FXN_CLASS>missense_variant,coding_sequence_variant</FXN_CLASS><VALIDATED/><DOCSUM>HGVS=NC_000003.12:g.41225484G&gt;A,NC_000003.11:g.41266975G&gt;A,NG_013302.2:g.31034G&gt;A,NM_001904.4:c.646G&gt;A,NM_001904.3:c.646G&gt;A,NM_001330729.2:c.625G&gt;A,NM_001330729.1:c.625G&gt;A,NM_001098209.2:c.646G&gt;A,NM_001098209.1:c.646G&gt;A,NM_001098210.2:c.646G&gt;A,NM_001098210.1:c.646G&gt;A,NG_082978.1:g.1177G&gt;A,XM_024453356.2:c.646G&gt;A,XM_024453356.1:c.646G&gt;A,XM_017005738.2:c.646G&gt;A,XM_017005738.1:c.646G&gt;A,XM_006712985.2:c.646G&gt;A,XM_006712985.1:c.646G&gt;A,XM_047447482.1:c.625G&gt;A,XM_047447479.1:c.646G&gt;A,XM_047447478.1:c.646G&gt;A,XM_047447480.1:c.646G&gt;A,XM_047447481.1:c.646G&gt;A,XM_047447477.1:c.646G&gt;A,XM_047447483.1:c.646G&gt;A,NP_001895.1:p.Gly216Arg,NP_001317658.1:p.Gly209Arg,NP_001091679.1:p.Gly216Arg,NP_001091680.1:p.Gly216Arg,XP_024309124.1:p.Gly216Arg,XP_016861227.1:p.Gly216Arg,XP_006713048.1:p.Gly216Arg,XP_047303438.1:p.Gly209Arg,XP_047303435.1:p.Gly216Arg,XP_047303434.1:p.Gly216Arg,XP_047303436.1:p.Gly216Arg,XP_047303437.1:p.Gly216Arg,XP_047303433.1:p.Gly216Arg,XP_047303439.1:p.Gly216Arg|SEQ=[G/A]|LEN=1|GENE=CTNNB1:1499</DOCSUM><TAX_ID>9606</TAX_ID><ORIG_BUILD>156</ORIG_BUILD><UPD_BUILD>156</UPD_BUILD><CREATEDATE>2022/10/13 20:54</CREATEDATE><UPDATEDATE>2022/10/13 20:54</UPDATEDATE><SS>0</SS><ALLELE>R</ALLELE><SNP_CLASS>snv</SNP_CLASS><CHRPOS>3:41225484</CHRPOS><CHRPOS_PREV_ASSM>3:41266975</CHRPOS_PREV_ASSM><TEXT/><SNP_ID_SORT>2125623075</SNP_ID_SORT><CLINICAL_SORT>1</CLINICAL_SORT><CITED_SORT/><CHRPOS_SORT>0041225484</CHRPOS_SORT><MERGED_SORT>0</MERGED_SORT></DocumentSummary>\\n</ExchangeSet>'\n",
            "Going to download record 3 to 4\n",
            "b'<?xml version=\"1.0\" ?>\\n<ExchangeSet xmlns:xsi=\"https://www.w3.org/2001/XMLSchema-instance\" xmlns=\"https://www.ncbi.nlm.nih.gov/SNP/docsum\" xsi:schemaLocation=\"https://www.ncbi.nlm.nih.gov/SNP/docsum ftp://ftp.ncbi.nlm.nih.gov/snp/specs/docsum_eutils.xsd\" ><DocumentSummary uid=\"2125620433\"><SNP_ID>2125620433</SNP_ID><ALLELE_ORIGIN/><GLOBAL_MAFS/><GLOBAL_POPULATION/><GLOBAL_SAMPLESIZE>0</GLOBAL_SAMPLESIZE><SUSPECTED/><CLINICAL_SIGNIFICANCE>pathogenic</CLINICAL_SIGNIFICANCE><GENES><GENE_E><NAME>CTNNB1</NAME><GENE_ID>1499</GENE_ID></GENE_E></GENES><ACC>NC_000003.12</ACC><CHR>3</CHR><HANDLE>EVA</HANDLE><SPDI>NC_000003.12:41225078:C:A,NC_000003.12:41225078:C:G,NC_000003.12:41225078:C:T</SPDI><FXN_CLASS>missense_variant,coding_sequence_variant,stop_gained</FXN_CLASS><VALIDATED/><DOCSUM>HGVS=NC_000003.12:g.41225079C&gt;A,NC_000003.12:g.41225079C&gt;G,NC_000003.12:g.41225079C&gt;T,NC_000003.11:g.41266570C&gt;A,NC_000003.11:g.41266570C&gt;G,NC_000003.11:g.41266570C&gt;T,NG_013302.2:g.30629C&gt;A,NG_013302.2:g.30629C&gt;G,NG_013302.2:g.30629C&gt;T,NM_001904.4:c.367C&gt;A,NM_001904.4:c.367C&gt;G,NM_001904.4:c.367C&gt;T,NM_001904.3:c.367C&gt;A,NM_001904.3:c.367C&gt;G,NM_001904.3:c.367C&gt;T,NM_001330729.2:c.346C&gt;A,NM_001330729.2:c.346C&gt;G,NM_001330729.2:c.346C&gt;T,NM_001330729.1:c.346C&gt;A,NM_001330729.1:c.346C&gt;G,NM_001330729.1:c.346C&gt;T,NM_001098209.2:c.367C&gt;A,NM_001098209.2:c.367C&gt;G,NM_001098209.2:c.367C&gt;T,NM_001098209.1:c.367C&gt;A,NM_001098209.1:c.367C&gt;G,NM_001098209.1:c.367C&gt;T,NM_001098210.2:c.367C&gt;A,NM_001098210.2:c.367C&gt;G,NM_001098210.2:c.367C&gt;T,NM_001098210.1:c.367C&gt;A,NM_001098210.1:c.367C&gt;G,NM_001098210.1:c.367C&gt;T,NG_082978.1:g.772C&gt;A,NG_082978.1:g.772C&gt;G,NG_082978.1:g.772C&gt;T,XM_024453356.2:c.367C&gt;A,XM_024453356.2:c.367C&gt;G,XM_024453356.2:c.367C&gt;T,XM_024453356.1:c.367C&gt;A,XM_024453356.1:c.367C&gt;G,XM_024453356.1:c.367C&gt;T,XM_017005738.2:c.367C&gt;A,XM_017005738.2:c.367C&gt;G,XM_017005738.2:c.367C&gt;T,XM_017005738.1:c.367C&gt;A,XM_017005738.1:c.367C&gt;G,XM_017005738.1:c.367C&gt;T,XM_006712985.2:c.367C&gt;A,XM_006712985.2:c.367C&gt;G,XM_006712985.2:c.367C&gt;T,XM_006712985.1:c.367C&gt;A,XM_006712985.1:c.367C&gt;G,XM_006712985.1:c.367C&gt;T,XM_047447482.1:c.346C&gt;A,XM_047447482.1:c.346C&gt;G,XM_047447482.1:c.346C&gt;T,XM_047447479.1:c.367C&gt;A,XM_047447479.1:c.367C&gt;G,XM_047447479.1:c.367C&gt;T,XM_047447478.1:c.367C&gt;A,XM_047447478.1:c.367C&gt;G,XM_047447478.1:c.367C&gt;T,XM_047447480.1:c.367C&gt;A,XM_047447480.1:c.367C&gt;G,XM_047447480.1:c.367C&gt;T,XM_047447481.1:c.367C&gt;A,XM_047447481.1:c.367C&gt;G,XM_047447481.1:c.367C&gt;T,XM_047447477.1:c.367C&gt;A,XM_047447477.1:c.367C&gt;G,XM_047447477.1:c.367C&gt;T,XM_047447483.1:c.367C&gt;A,XM_047447483.1:c.367C&gt;G,XM_047447483.1:c.367C&gt;T,NP_001895.1:p.Gln123Lys,NP_001895.1:p.Gln123Glu,NP_001895.1:p.Gln123Ter,NP_001317658.1:p.Gln116Lys,NP_001317658.1:p.Gln116Glu,NP_001317658.1:p.Gln116Ter,NP_001091679.1:p.Gln123Lys,NP_001091679.1:p.Gln123Glu,NP_001091679.1:p.Gln123Ter,NP_001091680.1:p.Gln123Lys,NP_001091680.1:p.Gln123Glu,NP_001091680.1:p.Gln123Ter,XP_024309124.1:p.Gln123Lys,XP_024309124.1:p.Gln123Glu,XP_024309124.1:p.Gln123Ter,XP_016861227.1:p.Gln123Lys,XP_016861227.1:p.Gln123Glu,XP_016861227.1:p.Gln123Ter,XP_006713048.1:p.Gln123Lys,XP_006713048.1:p.Gln123Glu,XP_006713048.1:p.Gln123Ter,XP_047303438.1:p.Gln116Lys,XP_047303438.1:p.Gln116Glu,XP_047303438.1:p.Gln116Ter,XP_047303435.1:p.Gln123Lys,XP_047303435.1:p.Gln123Glu,XP_047303435.1:p.Gln123Ter,XP_047303434.1:p.Gln123Lys,XP_047303434.1:p.Gln123Glu,XP_047303434.1:p.Gln123Ter,XP_047303436.1:p.Gln123Lys,XP_047303436.1:p.Gln123Glu,XP_047303436.1:p.Gln123Ter,XP_047303437.1:p.Gln123Lys,XP_047303437.1:p.Gln123Glu,XP_047303437.1:p.Gln123Ter,XP_047303433.1:p.Gln123Lys,XP_047303433.1:p.Gln123Glu,XP_047303433.1:p.Gln123Ter,XP_047303439.1:p.Gln123Lys,XP_047303439.1:p.Gln123Glu,XP_047303439.1:p.Gln123Ter|SEQ=[C/A/G/T]|LEN=1|GENE=CTNNB1:1499</DOCSUM><TAX_ID>9606</TAX_ID><ORIG_BUILD>156</ORIG_BUILD><UPD_BUILD>156</UPD_BUILD><CREATEDATE>2022/10/13 20:54</CREATEDATE><UPDATEDATE>2022/10/13 20:54</UPDATEDATE><SS>5935642996</SS><ALLELE>N</ALLELE><SNP_CLASS>snv</SNP_CLASS><CHRPOS>3:41225079</CHRPOS><CHRPOS_PREV_ASSM>3:41266570</CHRPOS_PREV_ASSM><TEXT/><SNP_ID_SORT>2125620433</SNP_ID_SORT><CLINICAL_SORT>1</CLINICAL_SORT><CITED_SORT/><CHRPOS_SORT>0041225079</CHRPOS_SORT><MERGED_SORT>0</MERGED_SORT></DocumentSummary>\\n<DocumentSummary uid=\"2125617982\"><SNP_ID>2125617982</SNP_ID><ALLELE_ORIGIN/><GLOBAL_MAFS/><GLOBAL_POPULATION/><GLOBAL_SAMPLESIZE>0</GLOBAL_SAMPLESIZE><SUSPECTED/><CLINICAL_SIGNIFICANCE>pathogenic</CLINICAL_SIGNIFICANCE><GENES><GENE_E><NAME>CTNNB1</NAME><GENE_ID>1499</GENE_ID></GENE_E></GENES><ACC>NC_000003.12</ACC><CHR>3</CHR><HANDLE>EVA</HANDLE><SPDI>NC_000003.12:41224692:C:A,NC_000003.12:41224692:C:T</SPDI><FXN_CLASS>missense_variant,coding_sequence_variant,stop_gained</FXN_CLASS><VALIDATED/><DOCSUM>HGVS=NC_000003.12:g.41224693C&gt;A,NC_000003.12:g.41224693C&gt;T,NC_000003.11:g.41266184C&gt;A,NC_000003.11:g.41266184C&gt;T,NG_013302.2:g.30243C&gt;A,NG_013302.2:g.30243C&gt;T,NM_001904.4:c.181C&gt;A,NM_001904.4:c.181C&gt;T,NM_001904.3:c.181C&gt;A,NM_001904.3:c.181C&gt;T,NM_001330729.2:c.160C&gt;A,NM_001330729.2:c.160C&gt;T,NM_001330729.1:c.160C&gt;A,NM_001330729.1:c.160C&gt;T,NM_001098209.2:c.181C&gt;A,NM_001098209.2:c.181C&gt;T,NM_001098209.1:c.181C&gt;A,NM_001098209.1:c.181C&gt;T,NM_001098210.2:c.181C&gt;A,NM_001098210.2:c.181C&gt;T,NM_001098210.1:c.181C&gt;A,NM_001098210.1:c.181C&gt;T,NG_082978.1:g.386C&gt;A,NG_082978.1:g.386C&gt;T,XM_024453356.2:c.181C&gt;A,XM_024453356.2:c.181C&gt;T,XM_024453356.1:c.181C&gt;A,XM_024453356.1:c.181C&gt;T,XM_017005738.2:c.181C&gt;A,XM_017005738.2:c.181C&gt;T,XM_017005738.1:c.181C&gt;A,XM_017005738.1:c.181C&gt;T,XM_006712985.2:c.181C&gt;A,XM_006712985.2:c.181C&gt;T,XM_006712985.1:c.181C&gt;A,XM_006712985.1:c.181C&gt;T,XM_047447482.1:c.160C&gt;A,XM_047447482.1:c.160C&gt;T,XM_047447479.1:c.181C&gt;A,XM_047447479.1:c.181C&gt;T,XM_047447478.1:c.181C&gt;A,XM_047447478.1:c.181C&gt;T,XM_047447480.1:c.181C&gt;A,XM_047447480.1:c.181C&gt;T,XM_047447481.1:c.181C&gt;A,XM_047447481.1:c.181C&gt;T,XM_047447477.1:c.181C&gt;A,XM_047447477.1:c.181C&gt;T,XM_047447483.1:c.181C&gt;A,XM_047447483.1:c.181C&gt;T,NP_001895.1:p.Gln61Lys,NP_001895.1:p.Gln61Ter,NP_001317658.1:p.Gln54Lys,NP_001317658.1:p.Gln54Ter,NP_001091679.1:p.Gln61Lys,NP_001091679.1:p.Gln61Ter,NP_001091680.1:p.Gln61Lys,NP_001091680.1:p.Gln61Ter,XP_024309124.1:p.Gln61Lys,XP_024309124.1:p.Gln61Ter,XP_016861227.1:p.Gln61Lys,XP_016861227.1:p.Gln61Ter,XP_006713048.1:p.Gln61Lys,XP_006713048.1:p.Gln61Ter,XP_047303438.1:p.Gln54Lys,XP_047303438.1:p.Gln54Ter,XP_047303435.1:p.Gln61Lys,XP_047303435.1:p.Gln61Ter,XP_047303434.1:p.Gln61Lys,XP_047303434.1:p.Gln61Ter,XP_047303436.1:p.Gln61Lys,XP_047303436.1:p.Gln61Ter,XP_047303437.1:p.Gln61Lys,XP_047303437.1:p.Gln61Ter,XP_047303433.1:p.Gln61Lys,XP_047303433.1:p.Gln61Ter,XP_047303439.1:p.Gln61Lys,XP_047303439.1:p.Gln61Ter|SEQ=[C/A/T]|LEN=1|GENE=CTNNB1:1499</DOCSUM><TAX_ID>9606</TAX_ID><ORIG_BUILD>156</ORIG_BUILD><UPD_BUILD>156</UPD_BUILD><CREATEDATE>2022/10/13 20:54</CREATEDATE><UPDATEDATE>2022/10/13 20:54</UPDATEDATE><SS>5825646848</SS><ALLELE>H</ALLELE><SNP_CLASS>snv</SNP_CLASS><CHRPOS>3:41224693</CHRPOS><CHRPOS_PREV_ASSM>3:41266184</CHRPOS_PREV_ASSM><TEXT/><SNP_ID_SORT>2125617982</SNP_ID_SORT><CLINICAL_SORT>1</CLINICAL_SORT><CITED_SORT/><CHRPOS_SORT>0041224693</CHRPOS_SORT><MERGED_SORT>0</MERGED_SORT></DocumentSummary>\\n</ExchangeSet>'\n",
            "Going to download record 5 to 6\n",
            "b'<?xml version=\"1.0\" ?>\\n<ExchangeSet xmlns:xsi=\"https://www.w3.org/2001/XMLSchema-instance\" xmlns=\"https://www.ncbi.nlm.nih.gov/SNP/docsum\" xsi:schemaLocation=\"https://www.ncbi.nlm.nih.gov/SNP/docsum ftp://ftp.ncbi.nlm.nih.gov/snp/specs/docsum_eutils.xsd\" ><DocumentSummary uid=\"2125617859\"><SNP_ID>2125617859</SNP_ID><ALLELE_ORIGIN/><GLOBAL_MAFS/><GLOBAL_POPULATION/><GLOBAL_SAMPLESIZE>0</GLOBAL_SAMPLESIZE><SUSPECTED/><CLINICAL_SIGNIFICANCE>pathogenic</CLINICAL_SIGNIFICANCE><GENES><GENE_E><NAME>CTNNB1</NAME><GENE_ID>1499</GENE_ID></GENE_E></GENES><ACC>NC_000003.12</ACC><CHR>3</CHR><HANDLE>EVA</HANDLE><SPDI>NC_000003.12:41224674:G:A,NC_000003.12:41224674:G:C,NC_000003.12:41224674:G:T</SPDI><FXN_CLASS>missense_variant,coding_sequence_variant,stop_gained</FXN_CLASS><VALIDATED/><DOCSUM>HGVS=NC_000003.12:g.41224675G&gt;A,NC_000003.12:g.41224675G&gt;C,NC_000003.12:g.41224675G&gt;T,NC_000003.11:g.41266166G&gt;A,NC_000003.11:g.41266166G&gt;C,NC_000003.11:g.41266166G&gt;T,NG_013302.2:g.30225G&gt;A,NG_013302.2:g.30225G&gt;C,NG_013302.2:g.30225G&gt;T,NM_001904.4:c.163G&gt;A,NM_001904.4:c.163G&gt;C,NM_001904.4:c.163G&gt;T,NM_001904.3:c.163G&gt;A,NM_001904.3:c.163G&gt;C,NM_001904.3:c.163G&gt;T,NM_001330729.2:c.142G&gt;A,NM_001330729.2:c.142G&gt;C,NM_001330729.2:c.142G&gt;T,NM_001330729.1:c.142G&gt;A,NM_001330729.1:c.142G&gt;C,NM_001330729.1:c.142G&gt;T,NM_001098209.2:c.163G&gt;A,NM_001098209.2:c.163G&gt;C,NM_001098209.2:c.163G&gt;T,NM_001098209.1:c.163G&gt;A,NM_001098209.1:c.163G&gt;C,NM_001098209.1:c.163G&gt;T,NM_001098210.2:c.163G&gt;A,NM_001098210.2:c.163G&gt;C,NM_001098210.2:c.163G&gt;T,NM_001098210.1:c.163G&gt;A,NM_001098210.1:c.163G&gt;C,NM_001098210.1:c.163G&gt;T,NG_082978.1:g.368G&gt;A,NG_082978.1:g.368G&gt;C,NG_082978.1:g.368G&gt;T,XM_024453356.2:c.163G&gt;A,XM_024453356.2:c.163G&gt;C,XM_024453356.2:c.163G&gt;T,XM_024453356.1:c.163G&gt;A,XM_024453356.1:c.163G&gt;C,XM_024453356.1:c.163G&gt;T,XM_017005738.2:c.163G&gt;A,XM_017005738.2:c.163G&gt;C,XM_017005738.2:c.163G&gt;T,XM_017005738.1:c.163G&gt;A,XM_017005738.1:c.163G&gt;C,XM_017005738.1:c.163G&gt;T,XM_006712985.2:c.163G&gt;A,XM_006712985.2:c.163G&gt;C,XM_006712985.2:c.163G&gt;T,XM_006712985.1:c.163G&gt;A,XM_006712985.1:c.163G&gt;C,XM_006712985.1:c.163G&gt;T,XM_047447482.1:c.142G&gt;A,XM_047447482.1:c.142G&gt;C,XM_047447482.1:c.142G&gt;T,XM_047447479.1:c.163G&gt;A,XM_047447479.1:c.163G&gt;C,XM_047447479.1:c.163G&gt;T,XM_047447478.1:c.163G&gt;A,XM_047447478.1:c.163G&gt;C,XM_047447478.1:c.163G&gt;T,XM_047447480.1:c.163G&gt;A,XM_047447480.1:c.163G&gt;C,XM_047447480.1:c.163G&gt;T,XM_047447481.1:c.163G&gt;A,XM_047447481.1:c.163G&gt;C,XM_047447481.1:c.163G&gt;T,XM_047447477.1:c.163G&gt;A,XM_047447477.1:c.163G&gt;C,XM_047447477.1:c.163G&gt;T,XM_047447483.1:c.163G&gt;A,XM_047447483.1:c.163G&gt;C,XM_047447483.1:c.163G&gt;T,NP_001895.1:p.Glu55Lys,NP_001895.1:p.Glu55Gln,NP_001895.1:p.Glu55Ter,NP_001317658.1:p.Glu48Lys,NP_001317658.1:p.Glu48Gln,NP_001317658.1:p.Glu48Ter,NP_001091679.1:p.Glu55Lys,NP_001091679.1:p.Glu55Gln,NP_001091679.1:p.Glu55Ter,NP_001091680.1:p.Glu55Lys,NP_001091680.1:p.Glu55Gln,NP_001091680.1:p.Glu55Ter,XP_024309124.1:p.Glu55Lys,XP_024309124.1:p.Glu55Gln,XP_024309124.1:p.Glu55Ter,XP_016861227.1:p.Glu55Lys,XP_016861227.1:p.Glu55Gln,XP_016861227.1:p.Glu55Ter,XP_006713048.1:p.Glu55Lys,XP_006713048.1:p.Glu55Gln,XP_006713048.1:p.Glu55Ter,XP_047303438.1:p.Glu48Lys,XP_047303438.1:p.Glu48Gln,XP_047303438.1:p.Glu48Ter,XP_047303435.1:p.Glu55Lys,XP_047303435.1:p.Glu55Gln,XP_047303435.1:p.Glu55Ter,XP_047303434.1:p.Glu55Lys,XP_047303434.1:p.Glu55Gln,XP_047303434.1:p.Glu55Ter,XP_047303436.1:p.Glu55Lys,XP_047303436.1:p.Glu55Gln,XP_047303436.1:p.Glu55Ter,XP_047303437.1:p.Glu55Lys,XP_047303437.1:p.Glu55Gln,XP_047303437.1:p.Glu55Ter,XP_047303433.1:p.Glu55Lys,XP_047303433.1:p.Glu55Gln,XP_047303433.1:p.Glu55Ter,XP_047303439.1:p.Glu55Lys,XP_047303439.1:p.Glu55Gln,XP_047303439.1:p.Glu55Ter|SEQ=[G/A/C/T]|LEN=1|GENE=CTNNB1:1499</DOCSUM><TAX_ID>9606</TAX_ID><ORIG_BUILD>156</ORIG_BUILD><UPD_BUILD>156</UPD_BUILD><CREATEDATE>2022/10/13 20:54</CREATEDATE><UPDATEDATE>2022/10/13 20:54</UPDATEDATE><SS>5935642559</SS><ALLELE>N</ALLELE><SNP_CLASS>snv</SNP_CLASS><CHRPOS>3:41224675</CHRPOS><CHRPOS_PREV_ASSM>3:41266166</CHRPOS_PREV_ASSM><TEXT/><SNP_ID_SORT>2125617859</SNP_ID_SORT><CLINICAL_SORT>1</CLINICAL_SORT><CITED_SORT/><CHRPOS_SORT>0041224675</CHRPOS_SORT><MERGED_SORT>0</MERGED_SORT></DocumentSummary>\\n<DocumentSummary uid=\"2078436466\"><SNP_ID>2078436466</SNP_ID><ALLELE_ORIGIN/><GLOBAL_MAFS><MAF><STUDY>ALFA</STUDY><FREQ>C=0./0</FREQ></MAF></GLOBAL_MAFS><GLOBAL_POPULATION/><GLOBAL_SAMPLESIZE>0</GLOBAL_SAMPLESIZE><SUSPECTED/><CLINICAL_SIGNIFICANCE>pathogenic</CLINICAL_SIGNIFICANCE><GENES><GENE_E><NAME>CTNNB1</NAME><GENE_ID>1499</GENE_ID></GENE_E></GENES><ACC>NC_000003.12</ACC><CHR>3</CHR><HANDLE>EVA</HANDLE><SPDI>NC_000003.12:41236468:G:A,NC_000003.12:41236468:G:C,NC_000003.12:41236468:G:T</SPDI><FXN_CLASS>stop_gained,missense_variant,coding_sequence_variant</FXN_CLASS><VALIDATED>by-frequency,by-alfa</VALIDATED><DOCSUM>HGVS=NC_000003.12:g.41236469G&gt;A,NC_000003.12:g.41236469G&gt;C,NC_000003.12:g.41236469G&gt;T,NC_000003.11:g.41277960G&gt;A,NC_000003.11:g.41277960G&gt;C,NC_000003.11:g.41277960G&gt;T,NG_013302.2:g.42019G&gt;A,NG_013302.2:g.42019G&gt;C,NG_013302.2:g.42019G&gt;T,NM_001904.4:c.1924G&gt;A,NM_001904.4:c.1924G&gt;C,NM_001904.4:c.1924G&gt;T,NM_001904.3:c.1924G&gt;A,NM_001904.3:c.1924G&gt;C,NM_001904.3:c.1924G&gt;T,NM_001330729.2:c.1903G&gt;A,NM_001330729.2:c.1903G&gt;C,NM_001330729.2:c.1903G&gt;T,NM_001330729.1:c.1903G&gt;A,NM_001330729.1:c.1903G&gt;C,NM_001330729.1:c.1903G&gt;T,NM_001098209.2:c.1924G&gt;A,NM_001098209.2:c.1924G&gt;C,NM_001098209.2:c.1924G&gt;T,NM_001098209.1:c.1924G&gt;A,NM_001098209.1:c.1924G&gt;C,NM_001098209.1:c.1924G&gt;T,NM_001098210.2:c.1924G&gt;A,NM_001098210.2:c.1924G&gt;C,NM_001098210.2:c.1924G&gt;T,NM_001098210.1:c.1924G&gt;A,NM_001098210.1:c.1924G&gt;C,NM_001098210.1:c.1924G&gt;T,XM_024453356.2:c.1924G&gt;A,XM_024453356.2:c.1924G&gt;C,XM_024453356.2:c.1924G&gt;T,XM_024453356.1:c.1924G&gt;A,XM_024453356.1:c.1924G&gt;C,XM_024453356.1:c.1924G&gt;T,XM_017005738.2:c.1924G&gt;A,XM_017005738.2:c.1924G&gt;C,XM_017005738.2:c.1924G&gt;T,XM_017005738.1:c.1924G&gt;A,XM_017005738.1:c.1924G&gt;C,XM_017005738.1:c.1924G&gt;T,XM_006712985.2:c.1924G&gt;A,XM_006712985.2:c.1924G&gt;C,XM_006712985.2:c.1924G&gt;T,XM_006712985.1:c.1924G&gt;A,XM_006712985.1:c.1924G&gt;C,XM_006712985.1:c.1924G&gt;T,XM_047447482.1:c.1903G&gt;A,XM_047447482.1:c.1903G&gt;C,XM_047447482.1:c.1903G&gt;T,XM_047447479.1:c.1924G&gt;A,XM_047447479.1:c.1924G&gt;C,XM_047447479.1:c.1924G&gt;T,XM_047447478.1:c.1924G&gt;A,XM_047447478.1:c.1924G&gt;C,XM_047447478.1:c.1924G&gt;T,XM_047447480.1:c.1924G&gt;A,XM_047447480.1:c.1924G&gt;C,XM_047447480.1:c.1924G&gt;T,XM_047447481.1:c.1924G&gt;A,XM_047447481.1:c.1924G&gt;C,XM_047447481.1:c.1924G&gt;T,XM_047447477.1:c.1924G&gt;A,XM_047447477.1:c.1924G&gt;C,XM_047447477.1:c.1924G&gt;T,XM_047447483.1:c.1924G&gt;A,XM_047447483.1:c.1924G&gt;C,XM_047447483.1:c.1924G&gt;T,NP_001895.1:p.Glu642Lys,NP_001895.1:p.Glu642Gln,NP_001895.1:p.Glu642Ter,NP_001317658.1:p.Glu635Lys,NP_001317658.1:p.Glu635Gln,NP_001317658.1:p.Glu635Ter,NP_001091679.1:p.Glu642Lys,NP_001091679.1:p.Glu642Gln,NP_001091679.1:p.Glu642Ter,NP_001091680.1:p.Glu642Lys,NP_001091680.1:p.Glu642Gln,NP_001091680.1:p.Glu642Ter,XP_024309124.1:p.Glu642Lys,XP_024309124.1:p.Glu642Gln,XP_024309124.1:p.Glu642Ter,XP_016861227.1:p.Glu642Lys,XP_016861227.1:p.Glu642Gln,XP_016861227.1:p.Glu642Ter,XP_006713048.1:p.Glu642Lys,XP_006713048.1:p.Glu642Gln,XP_006713048.1:p.Glu642Ter,XP_047303438.1:p.Glu635Lys,XP_047303438.1:p.Glu635Gln,XP_047303438.1:p.Glu635Ter,XP_047303435.1:p.Glu642Lys,XP_047303435.1:p.Glu642Gln,XP_047303435.1:p.Glu642Ter,XP_047303434.1:p.Glu642Lys,XP_047303434.1:p.Glu642Gln,XP_047303434.1:p.Glu642Ter,XP_047303436.1:p.Glu642Lys,XP_047303436.1:p.Glu642Gln,XP_047303436.1:p.Glu642Ter,XP_047303437.1:p.Glu642Lys,XP_047303437.1:p.Glu642Gln,XP_047303437.1:p.Glu642Ter,XP_047303433.1:p.Glu642Lys,XP_047303433.1:p.Glu642Gln,XP_047303433.1:p.Glu642Ter,XP_047303439.1:p.Glu642Lys,XP_047303439.1:p.Glu642Gln,XP_047303439.1:p.Glu642Ter|SEQ=[G/A/C/T]|LEN=1|GENE=CTNNB1:1499</DOCSUM><TAX_ID>9606</TAX_ID><ORIG_BUILD>155</ORIG_BUILD><UPD_BUILD>156</UPD_BUILD><CREATEDATE>2021/04/27 10:02</CREATEDATE><UPDATEDATE>2022/10/13 20:54</UPDATEDATE><SS>5935645349</SS><ALLELE>N</ALLELE><SNP_CLASS>snv</SNP_CLASS><CHRPOS>3:41236469</CHRPOS><CHRPOS_PREV_ASSM>3:41277960</CHRPOS_PREV_ASSM><TEXT/><SNP_ID_SORT>2078436466</SNP_ID_SORT><CLINICAL_SORT>1</CLINICAL_SORT><CITED_SORT/><CHRPOS_SORT>0041236469</CHRPOS_SORT><MERGED_SORT>0</MERGED_SORT></DocumentSummary>\\n</ExchangeSet>'\n",
            "Going to download record 7 to 8\n",
            "b'<?xml version=\"1.0\" ?>\\n<ExchangeSet xmlns:xsi=\"https://www.w3.org/2001/XMLSchema-instance\" xmlns=\"https://www.ncbi.nlm.nih.gov/SNP/docsum\" xsi:schemaLocation=\"https://www.ncbi.nlm.nih.gov/SNP/docsum ftp://ftp.ncbi.nlm.nih.gov/snp/specs/docsum_eutils.xsd\" ><DocumentSummary uid=\"2078162308\"><SNP_ID>2078162308</SNP_ID><ALLELE_ORIGIN/><GLOBAL_MAFS/><GLOBAL_POPULATION/><GLOBAL_SAMPLESIZE>0</GLOBAL_SAMPLESIZE><SUSPECTED/><CLINICAL_SIGNIFICANCE>pathogenic</CLINICAL_SIGNIFICANCE><GENES><GENE_E><NAME>CTNNB1</NAME><GENE_ID>1499</GENE_ID></GENE_E></GENES><ACC>NC_000003.12</ACC><CHR>3</CHR><HANDLE>EVA</HANDLE><SPDI>NC_000003.12:41225852:G:A,NC_000003.12:41225852:G:C,NC_000003.12:41225852:G:T</SPDI><FXN_CLASS>stop_gained,missense_variant,coding_sequence_variant</FXN_CLASS><VALIDATED/><DOCSUM>HGVS=NC_000003.12:g.41225853G&gt;A,NC_000003.12:g.41225853G&gt;C,NC_000003.12:g.41225853G&gt;T,NC_000003.11:g.41267344G&gt;A,NC_000003.11:g.41267344G&gt;C,NC_000003.11:g.41267344G&gt;T,NG_013302.2:g.31403G&gt;A,NG_013302.2:g.31403G&gt;C,NG_013302.2:g.31403G&gt;T,NM_001904.4:c.928G&gt;A,NM_001904.4:c.928G&gt;C,NM_001904.4:c.928G&gt;T,NM_001904.3:c.928G&gt;A,NM_001904.3:c.928G&gt;C,NM_001904.3:c.928G&gt;T,NM_001330729.2:c.907G&gt;A,NM_001330729.2:c.907G&gt;C,NM_001330729.2:c.907G&gt;T,NM_001330729.1:c.907G&gt;A,NM_001330729.1:c.907G&gt;C,NM_001330729.1:c.907G&gt;T,NM_001098209.2:c.928G&gt;A,NM_001098209.2:c.928G&gt;C,NM_001098209.2:c.928G&gt;T,NM_001098209.1:c.928G&gt;A,NM_001098209.1:c.928G&gt;C,NM_001098209.1:c.928G&gt;T,NM_001098210.2:c.928G&gt;A,NM_001098210.2:c.928G&gt;C,NM_001098210.2:c.928G&gt;T,NM_001098210.1:c.928G&gt;A,NM_001098210.1:c.928G&gt;C,NM_001098210.1:c.928G&gt;T,XM_024453356.2:c.928G&gt;A,XM_024453356.2:c.928G&gt;C,XM_024453356.2:c.928G&gt;T,XM_024453356.1:c.928G&gt;A,XM_024453356.1:c.928G&gt;C,XM_024453356.1:c.928G&gt;T,XM_017005738.2:c.928G&gt;A,XM_017005738.2:c.928G&gt;C,XM_017005738.2:c.928G&gt;T,XM_017005738.1:c.928G&gt;A,XM_017005738.1:c.928G&gt;C,XM_017005738.1:c.928G&gt;T,XM_006712985.2:c.928G&gt;A,XM_006712985.2:c.928G&gt;C,XM_006712985.2:c.928G&gt;T,XM_006712985.1:c.928G&gt;A,XM_006712985.1:c.928G&gt;C,XM_006712985.1:c.928G&gt;T,XM_047447482.1:c.907G&gt;A,XM_047447482.1:c.907G&gt;C,XM_047447482.1:c.907G&gt;T,XM_047447479.1:c.928G&gt;A,XM_047447479.1:c.928G&gt;C,XM_047447479.1:c.928G&gt;T,XM_047447478.1:c.928G&gt;A,XM_047447478.1:c.928G&gt;C,XM_047447478.1:c.928G&gt;T,XM_047447480.1:c.928G&gt;A,XM_047447480.1:c.928G&gt;C,XM_047447480.1:c.928G&gt;T,XM_047447481.1:c.928G&gt;A,XM_047447481.1:c.928G&gt;C,XM_047447481.1:c.928G&gt;T,XM_047447477.1:c.928G&gt;A,XM_047447477.1:c.928G&gt;C,XM_047447477.1:c.928G&gt;T,XM_047447483.1:c.928G&gt;A,XM_047447483.1:c.928G&gt;C,XM_047447483.1:c.928G&gt;T,NP_001895.1:p.Glu310Lys,NP_001895.1:p.Glu310Gln,NP_001895.1:p.Glu310Ter,NP_001317658.1:p.Glu303Lys,NP_001317658.1:p.Glu303Gln,NP_001317658.1:p.Glu303Ter,NP_001091679.1:p.Glu310Lys,NP_001091679.1:p.Glu310Gln,NP_001091679.1:p.Glu310Ter,NP_001091680.1:p.Glu310Lys,NP_001091680.1:p.Glu310Gln,NP_001091680.1:p.Glu310Ter,XP_024309124.1:p.Glu310Lys,XP_024309124.1:p.Glu310Gln,XP_024309124.1:p.Glu310Ter,XP_016861227.1:p.Glu310Lys,XP_016861227.1:p.Glu310Gln,XP_016861227.1:p.Glu310Ter,XP_006713048.1:p.Glu310Lys,XP_006713048.1:p.Glu310Gln,XP_006713048.1:p.Glu310Ter,XP_047303438.1:p.Glu303Lys,XP_047303438.1:p.Glu303Gln,XP_047303438.1:p.Glu303Ter,XP_047303435.1:p.Glu310Lys,XP_047303435.1:p.Glu310Gln,XP_047303435.1:p.Glu310Ter,XP_047303434.1:p.Glu310Lys,XP_047303434.1:p.Glu310Gln,XP_047303434.1:p.Glu310Ter,XP_047303436.1:p.Glu310Lys,XP_047303436.1:p.Glu310Gln,XP_047303436.1:p.Glu310Ter,XP_047303437.1:p.Glu310Lys,XP_047303437.1:p.Glu310Gln,XP_047303437.1:p.Glu310Ter,XP_047303433.1:p.Glu310Lys,XP_047303433.1:p.Glu310Gln,XP_047303433.1:p.Glu310Ter,XP_047303439.1:p.Glu310Lys,XP_047303439.1:p.Glu310Gln,XP_047303439.1:p.Glu310Ter|SEQ=[G/A/C/T]|LEN=1|GENE=CTNNB1:1499</DOCSUM><TAX_ID>9606</TAX_ID><ORIG_BUILD>155</ORIG_BUILD><UPD_BUILD>156</UPD_BUILD><CREATEDATE>2021/04/27 10:02</CREATEDATE><UPDATEDATE>2022/10/13 20:54</UPDATEDATE><SS>5935643895</SS><ALLELE>N</ALLELE><SNP_CLASS>snv</SNP_CLASS><CHRPOS>3:41225853</CHRPOS><CHRPOS_PREV_ASSM>3:41267344</CHRPOS_PREV_ASSM><TEXT/><SNP_ID_SORT>2078162308</SNP_ID_SORT><CLINICAL_SORT>1</CLINICAL_SORT><CITED_SORT/><CHRPOS_SORT>0041225853</CHRPOS_SORT><MERGED_SORT>0</MERGED_SORT></DocumentSummary>\\n<DocumentSummary uid=\"2078159952\"><SNP_ID>2078159952</SNP_ID><ALLELE_ORIGIN/><GLOBAL_MAFS/><GLOBAL_POPULATION/><GLOBAL_SAMPLESIZE>0</GLOBAL_SAMPLESIZE><SUSPECTED/><CLINICAL_SIGNIFICANCE>pathogenic</CLINICAL_SIGNIFICANCE><GENES><GENE_E><NAME>CTNNB1</NAME><GENE_ID>1499</GENE_ID></GENE_E></GENES><ACC>NC_000003.12</ACC><CHR>3</CHR><HANDLE>EVA</HANDLE><SPDI>NC_000003.12:41225712:T:A,NC_000003.12:41225712:T:C,NC_000003.12:41225712:T:G</SPDI><FXN_CLASS>stop_gained,missense_variant,coding_sequence_variant</FXN_CLASS><VALIDATED/><DOCSUM>HGVS=NC_000003.12:g.41225713T&gt;A,NC_000003.12:g.41225713T&gt;C,NC_000003.12:g.41225713T&gt;G,NC_000003.11:g.41267204T&gt;A,NC_000003.11:g.41267204T&gt;C,NC_000003.11:g.41267204T&gt;G,NG_013302.2:g.31263T&gt;A,NG_013302.2:g.31263T&gt;C,NG_013302.2:g.31263T&gt;G,NM_001904.4:c.788T&gt;A,NM_001904.4:c.788T&gt;C,NM_001904.4:c.788T&gt;G,NM_001904.3:c.788T&gt;A,NM_001904.3:c.788T&gt;C,NM_001904.3:c.788T&gt;G,NM_001330729.2:c.767T&gt;A,NM_001330729.2:c.767T&gt;C,NM_001330729.2:c.767T&gt;G,NM_001330729.1:c.767T&gt;A,NM_001330729.1:c.767T&gt;C,NM_001330729.1:c.767T&gt;G,NM_001098209.2:c.788T&gt;A,NM_001098209.2:c.788T&gt;C,NM_001098209.2:c.788T&gt;G,NM_001098209.1:c.788T&gt;A,NM_001098209.1:c.788T&gt;C,NM_001098209.1:c.788T&gt;G,NM_001098210.2:c.788T&gt;A,NM_001098210.2:c.788T&gt;C,NM_001098210.2:c.788T&gt;G,NM_001098210.1:c.788T&gt;A,NM_001098210.1:c.788T&gt;C,NM_001098210.1:c.788T&gt;G,XM_024453356.2:c.788T&gt;A,XM_024453356.2:c.788T&gt;C,XM_024453356.2:c.788T&gt;G,XM_024453356.1:c.788T&gt;A,XM_024453356.1:c.788T&gt;C,XM_024453356.1:c.788T&gt;G,XM_017005738.2:c.788T&gt;A,XM_017005738.2:c.788T&gt;C,XM_017005738.2:c.788T&gt;G,XM_017005738.1:c.788T&gt;A,XM_017005738.1:c.788T&gt;C,XM_017005738.1:c.788T&gt;G,XM_006712985.2:c.788T&gt;A,XM_006712985.2:c.788T&gt;C,XM_006712985.2:c.788T&gt;G,XM_006712985.1:c.788T&gt;A,XM_006712985.1:c.788T&gt;C,XM_006712985.1:c.788T&gt;G,XM_047447482.1:c.767T&gt;A,XM_047447482.1:c.767T&gt;C,XM_047447482.1:c.767T&gt;G,XM_047447479.1:c.788T&gt;A,XM_047447479.1:c.788T&gt;C,XM_047447479.1:c.788T&gt;G,XM_047447478.1:c.788T&gt;A,XM_047447478.1:c.788T&gt;C,XM_047447478.1:c.788T&gt;G,XM_047447480.1:c.788T&gt;A,XM_047447480.1:c.788T&gt;C,XM_047447480.1:c.788T&gt;G,XM_047447481.1:c.788T&gt;A,XM_047447481.1:c.788T&gt;C,XM_047447481.1:c.788T&gt;G,XM_047447477.1:c.788T&gt;A,XM_047447477.1:c.788T&gt;C,XM_047447477.1:c.788T&gt;G,XM_047447483.1:c.788T&gt;A,XM_047447483.1:c.788T&gt;C,XM_047447483.1:c.788T&gt;G,NP_001895.1:p.Leu263Ter,NP_001895.1:p.Leu263Ser,NP_001895.1:p.Leu263Ter,NP_001317658.1:p.Leu256Ter,NP_001317658.1:p.Leu256Ser,NP_001317658.1:p.Leu256Ter,NP_001091679.1:p.Leu263Ter,NP_001091679.1:p.Leu263Ser,NP_001091679.1:p.Leu263Ter,NP_001091680.1:p.Leu263Ter,NP_001091680.1:p.Leu263Ser,NP_001091680.1:p.Leu263Ter,XP_024309124.1:p.Leu263Ter,XP_024309124.1:p.Leu263Ser,XP_024309124.1:p.Leu263Ter,XP_016861227.1:p.Leu263Ter,XP_016861227.1:p.Leu263Ser,XP_016861227.1:p.Leu263Ter,XP_006713048.1:p.Leu263Ter,XP_006713048.1:p.Leu263Ser,XP_006713048.1:p.Leu263Ter,XP_047303438.1:p.Leu256Ter,XP_047303438.1:p.Leu256Ser,XP_047303438.1:p.Leu256Ter,XP_047303435.1:p.Leu263Ter,XP_047303435.1:p.Leu263Ser,XP_047303435.1:p.Leu263Ter,XP_047303434.1:p.Leu263Ter,XP_047303434.1:p.Leu263Ser,XP_047303434.1:p.Leu263Ter,XP_047303436.1:p.Leu263Ter,XP_047303436.1:p.Leu263Ser,XP_047303436.1:p.Leu263Ter,XP_047303437.1:p.Leu263Ter,XP_047303437.1:p.Leu263Ser,XP_047303437.1:p.Leu263Ter,XP_047303433.1:p.Leu263Ter,XP_047303433.1:p.Leu263Ser,XP_047303433.1:p.Leu263Ter,XP_047303439.1:p.Leu263Ter,XP_047303439.1:p.Leu263Ser,XP_047303439.1:p.Leu263Ter|SEQ=[T/A/C/G]|LEN=1|GENE=CTNNB1:1499</DOCSUM><TAX_ID>9606</TAX_ID><ORIG_BUILD>155</ORIG_BUILD><UPD_BUILD>156</UPD_BUILD><CREATEDATE>2021/04/27 10:02</CREATEDATE><UPDATEDATE>2022/10/13 20:54</UPDATEDATE><SS>5935643755</SS><ALLELE>N</ALLELE><SNP_CLASS>snv</SNP_CLASS><CHRPOS>3:41225713</CHRPOS><CHRPOS_PREV_ASSM>3:41267204</CHRPOS_PREV_ASSM><TEXT/><SNP_ID_SORT>2078159952</SNP_ID_SORT><CLINICAL_SORT>1</CLINICAL_SORT><CITED_SORT/><CHRPOS_SORT>0041225713</CHRPOS_SORT><MERGED_SORT>0</MERGED_SORT></DocumentSummary>\\n</ExchangeSet>'\n",
            "Going to download record 9 to 10\n",
            "b'<?xml version=\"1.0\" ?>\\n<ExchangeSet xmlns:xsi=\"https://www.w3.org/2001/XMLSchema-instance\" xmlns=\"https://www.ncbi.nlm.nih.gov/SNP/docsum\" xsi:schemaLocation=\"https://www.ncbi.nlm.nih.gov/SNP/docsum ftp://ftp.ncbi.nlm.nih.gov/snp/specs/docsum_eutils.xsd\" ><DocumentSummary uid=\"2078151590\"><SNP_ID>2078151590</SNP_ID><ALLELE_ORIGIN/><GLOBAL_MAFS/><GLOBAL_POPULATION/><GLOBAL_SAMPLESIZE>0</GLOBAL_SAMPLESIZE><SUSPECTED/><CLINICAL_SIGNIFICANCE>pathogenic</CLINICAL_SIGNIFICANCE><GENES><GENE_E><NAME>CTNNB1</NAME><GENE_ID>1499</GENE_ID></GENE_E></GENES><ACC>NC_000003.12</ACC><CHR>3</CHR><HANDLE>EVA</HANDLE><SPDI>NC_000003.12:41225390:A:G,NC_000003.12:41225390:A:T</SPDI><FXN_CLASS>stop_gained,missense_variant,coding_sequence_variant</FXN_CLASS><VALIDATED/><DOCSUM>HGVS=NC_000003.12:g.41225391A&gt;G,NC_000003.12:g.41225391A&gt;T,NC_000003.11:g.41266882A&gt;G,NC_000003.11:g.41266882A&gt;T,NG_013302.2:g.30941A&gt;G,NG_013302.2:g.30941A&gt;T,NM_001904.4:c.553A&gt;G,NM_001904.4:c.553A&gt;T,NM_001904.3:c.553A&gt;G,NM_001904.3:c.553A&gt;T,NM_001330729.2:c.532A&gt;G,NM_001330729.2:c.532A&gt;T,NM_001330729.1:c.532A&gt;G,NM_001330729.1:c.532A&gt;T,NM_001098209.2:c.553A&gt;G,NM_001098209.2:c.553A&gt;T,NM_001098209.1:c.553A&gt;G,NM_001098209.1:c.553A&gt;T,NM_001098210.2:c.553A&gt;G,NM_001098210.2:c.553A&gt;T,NM_001098210.1:c.553A&gt;G,NM_001098210.1:c.553A&gt;T,NG_082978.1:g.1084A&gt;G,NG_082978.1:g.1084A&gt;T,XM_024453356.2:c.553A&gt;G,XM_024453356.2:c.553A&gt;T,XM_024453356.1:c.553A&gt;G,XM_024453356.1:c.553A&gt;T,XM_017005738.2:c.553A&gt;G,XM_017005738.2:c.553A&gt;T,XM_017005738.1:c.553A&gt;G,XM_017005738.1:c.553A&gt;T,XM_006712985.2:c.553A&gt;G,XM_006712985.2:c.553A&gt;T,XM_006712985.1:c.553A&gt;G,XM_006712985.1:c.553A&gt;T,XM_047447482.1:c.532A&gt;G,XM_047447482.1:c.532A&gt;T,XM_047447479.1:c.553A&gt;G,XM_047447479.1:c.553A&gt;T,XM_047447478.1:c.553A&gt;G,XM_047447478.1:c.553A&gt;T,XM_047447480.1:c.553A&gt;G,XM_047447480.1:c.553A&gt;T,XM_047447481.1:c.553A&gt;G,XM_047447481.1:c.553A&gt;T,XM_047447477.1:c.553A&gt;G,XM_047447477.1:c.553A&gt;T,XM_047447483.1:c.553A&gt;G,XM_047447483.1:c.553A&gt;T,NP_001895.1:p.Arg185Gly,NP_001895.1:p.Arg185Ter,NP_001317658.1:p.Arg178Gly,NP_001317658.1:p.Arg178Ter,NP_001091679.1:p.Arg185Gly,NP_001091679.1:p.Arg185Ter,NP_001091680.1:p.Arg185Gly,NP_001091680.1:p.Arg185Ter,XP_024309124.1:p.Arg185Gly,XP_024309124.1:p.Arg185Ter,XP_016861227.1:p.Arg185Gly,XP_016861227.1:p.Arg185Ter,XP_006713048.1:p.Arg185Gly,XP_006713048.1:p.Arg185Ter,XP_047303438.1:p.Arg178Gly,XP_047303438.1:p.Arg178Ter,XP_047303435.1:p.Arg185Gly,XP_047303435.1:p.Arg185Ter,XP_047303434.1:p.Arg185Gly,XP_047303434.1:p.Arg185Ter,XP_047303436.1:p.Arg185Gly,XP_047303436.1:p.Arg185Ter,XP_047303437.1:p.Arg185Gly,XP_047303437.1:p.Arg185Ter,XP_047303433.1:p.Arg185Gly,XP_047303433.1:p.Arg185Ter,XP_047303439.1:p.Arg185Gly,XP_047303439.1:p.Arg185Ter|SEQ=[A/G/T]|LEN=1|GENE=CTNNB1:1499</DOCSUM><TAX_ID>9606</TAX_ID><ORIG_BUILD>156</ORIG_BUILD><UPD_BUILD>156</UPD_BUILD><CREATEDATE>2021/04/27 10:02</CREATEDATE><UPDATEDATE>2022/10/13 20:54</UPDATEDATE><SS>5935643409</SS><ALLELE>D</ALLELE><SNP_CLASS>snv</SNP_CLASS><CHRPOS>3:41225391</CHRPOS><CHRPOS_PREV_ASSM>3:41266882</CHRPOS_PREV_ASSM><TEXT/><SNP_ID_SORT>2078151590</SNP_ID_SORT><CLINICAL_SORT>1</CLINICAL_SORT><CITED_SORT/><CHRPOS_SORT>0041225391</CHRPOS_SORT><MERGED_SORT>0</MERGED_SORT></DocumentSummary>\\n<DocumentSummary uid=\"2078133150\"><SNP_ID>2078133150</SNP_ID><ALLELE_ORIGIN/><GLOBAL_MAFS><MAF><STUDY>ALFA</STUDY><FREQ>A=0./0</FREQ></MAF></GLOBAL_MAFS><GLOBAL_POPULATION/><GLOBAL_SAMPLESIZE>0</GLOBAL_SAMPLESIZE><SUSPECTED/><CLINICAL_SIGNIFICANCE>uncertain-significance,pathogenic</CLINICAL_SIGNIFICANCE><GENES><GENE_E><NAME>CTNNB1</NAME><GENE_ID>1499</GENE_ID></GENE_E></GENES><ACC>NC_000003.12</ACC><CHR>3</CHR><HANDLE>EVA</HANDLE><SPDI>NC_000003.12:41224671:G:A,NC_000003.12:41224671:G:C,NC_000003.12:41224671:G:T</SPDI><FXN_CLASS>stop_gained,missense_variant,coding_sequence_variant</FXN_CLASS><VALIDATED>by-frequency,by-alfa,by-cluster</VALIDATED><DOCSUM>HGVS=NC_000003.12:g.41224672G&gt;A,NC_000003.12:g.41224672G&gt;C,NC_000003.12:g.41224672G&gt;T,NC_000003.11:g.41266163G&gt;A,NC_000003.11:g.41266163G&gt;C,NC_000003.11:g.41266163G&gt;T,NG_013302.2:g.30222G&gt;A,NG_013302.2:g.30222G&gt;C,NG_013302.2:g.30222G&gt;T,NM_001904.4:c.160G&gt;A,NM_001904.4:c.160G&gt;C,NM_001904.4:c.160G&gt;T,NM_001904.3:c.160G&gt;A,NM_001904.3:c.160G&gt;C,NM_001904.3:c.160G&gt;T,NM_001330729.2:c.139G&gt;A,NM_001330729.2:c.139G&gt;C,NM_001330729.2:c.139G&gt;T,NM_001330729.1:c.139G&gt;A,NM_001330729.1:c.139G&gt;C,NM_001330729.1:c.139G&gt;T,NM_001098209.2:c.160G&gt;A,NM_001098209.2:c.160G&gt;C,NM_001098209.2:c.160G&gt;T,NM_001098209.1:c.160G&gt;A,NM_001098209.1:c.160G&gt;C,NM_001098209.1:c.160G&gt;T,NM_001098210.2:c.160G&gt;A,NM_001098210.2:c.160G&gt;C,NM_001098210.2:c.160G&gt;T,NM_001098210.1:c.160G&gt;A,NM_001098210.1:c.160G&gt;C,NM_001098210.1:c.160G&gt;T,NG_082978.1:g.365G&gt;A,NG_082978.1:g.365G&gt;C,NG_082978.1:g.365G&gt;T,XM_024453356.2:c.160G&gt;A,XM_024453356.2:c.160G&gt;C,XM_024453356.2:c.160G&gt;T,XM_024453356.1:c.160G&gt;A,XM_024453356.1:c.160G&gt;C,XM_024453356.1:c.160G&gt;T,XM_017005738.2:c.160G&gt;A,XM_017005738.2:c.160G&gt;C,XM_017005738.2:c.160G&gt;T,XM_017005738.1:c.160G&gt;A,XM_017005738.1:c.160G&gt;C,XM_017005738.1:c.160G&gt;T,XM_006712985.2:c.160G&gt;A,XM_006712985.2:c.160G&gt;C,XM_006712985.2:c.160G&gt;T,XM_006712985.1:c.160G&gt;A,XM_006712985.1:c.160G&gt;C,XM_006712985.1:c.160G&gt;T,XM_047447482.1:c.139G&gt;A,XM_047447482.1:c.139G&gt;C,XM_047447482.1:c.139G&gt;T,XM_047447479.1:c.160G&gt;A,XM_047447479.1:c.160G&gt;C,XM_047447479.1:c.160G&gt;T,XM_047447478.1:c.160G&gt;A,XM_047447478.1:c.160G&gt;C,XM_047447478.1:c.160G&gt;T,XM_047447480.1:c.160G&gt;A,XM_047447480.1:c.160G&gt;C,XM_047447480.1:c.160G&gt;T,XM_047447481.1:c.160G&gt;A,XM_047447481.1:c.160G&gt;C,XM_047447481.1:c.160G&gt;T,XM_047447477.1:c.160G&gt;A,XM_047447477.1:c.160G&gt;C,XM_047447477.1:c.160G&gt;T,XM_047447483.1:c.160G&gt;A,XM_047447483.1:c.160G&gt;C,XM_047447483.1:c.160G&gt;T,NP_001895.1:p.Glu54Lys,NP_001895.1:p.Glu54Gln,NP_001895.1:p.Glu54Ter,NP_001317658.1:p.Glu47Lys,NP_001317658.1:p.Glu47Gln,NP_001317658.1:p.Glu47Ter,NP_001091679.1:p.Glu54Lys,NP_001091679.1:p.Glu54Gln,NP_001091679.1:p.Glu54Ter,NP_001091680.1:p.Glu54Lys,NP_001091680.1:p.Glu54Gln,NP_001091680.1:p.Glu54Ter,XP_024309124.1:p.Glu54Lys,XP_024309124.1:p.Glu54Gln,XP_024309124.1:p.Glu54Ter,XP_016861227.1:p.Glu54Lys,XP_016861227.1:p.Glu54Gln,XP_016861227.1:p.Glu54Ter,XP_006713048.1:p.Glu54Lys,XP_006713048.1:p.Glu54Gln,XP_006713048.1:p.Glu54Ter,XP_047303438.1:p.Glu47Lys,XP_047303438.1:p.Glu47Gln,XP_047303438.1:p.Glu47Ter,XP_047303435.1:p.Glu54Lys,XP_047303435.1:p.Glu54Gln,XP_047303435.1:p.Glu54Ter,XP_047303434.1:p.Glu54Lys,XP_047303434.1:p.Glu54Gln,XP_047303434.1:p.Glu54Ter,XP_047303436.1:p.Glu54Lys,XP_047303436.1:p.Glu54Gln,XP_047303436.1:p.Glu54Ter,XP_047303437.1:p.Glu54Lys,XP_047303437.1:p.Glu54Gln,XP_047303437.1:p.Glu54Ter,XP_047303433.1:p.Glu54Lys,XP_047303433.1:p.Glu54Gln,XP_047303433.1:p.Glu54Ter,XP_047303439.1:p.Glu54Lys,XP_047303439.1:p.Glu54Gln,XP_047303439.1:p.Glu54Ter|SEQ=[G/A/C/T]|LEN=1|GENE=CTNNB1:1499</DOCSUM><TAX_ID>9606</TAX_ID><ORIG_BUILD>155</ORIG_BUILD><UPD_BUILD>156</UPD_BUILD><CREATEDATE>2021/04/27 10:02</CREATEDATE><UPDATEDATE>2022/10/13 20:54</UPDATEDATE><SS>5935642555,5935642556</SS><ALLELE>N</ALLELE><SNP_CLASS>snv</SNP_CLASS><CHRPOS>3:41224672</CHRPOS><CHRPOS_PREV_ASSM>3:41266163</CHRPOS_PREV_ASSM><TEXT/><SNP_ID_SORT>2078133150</SNP_ID_SORT><CLINICAL_SORT>1</CLINICAL_SORT><CITED_SORT/><CHRPOS_SORT>0041224672</CHRPOS_SORT><MERGED_SORT>0</MERGED_SORT></DocumentSummary>\\n</ExchangeSet>'\n"
          ]
        }
      ],
      "source": [
        "# sample codes adopted with modifications from http://biopython.org/DIST/docs/tutorial/Tutorial.html#htoc139.\n",
        "fetch_count = 0\n",
        "for start in range(0, 10, retmax):\n",
        "    end = min(total_count, start+retmax)\n",
        "    print(\"Going to download record %i to %i\" % (start+1, end))\n",
        "    attempt = 0\n",
        "    #fetch_count += 1\n",
        "    while (attempt < 3):\n",
        "        attempt += 1\n",
        "        try:\n",
        "            fetch_handle = Entrez.efetch(db=\"snp\",\n",
        "                                         #rettype=\"uilist\", #available types [uilist | xml (use retmode=xml))\n",
        "                                         retmode=\"xml\",\n",
        "                                         retstart=start,\n",
        "                                         retmax=retmax,\n",
        "                                         webenv=webenv,\n",
        "                                         query_key=query_key )\n",
        "        except HTTPError as err:\n",
        "            if 500 <= err.code <= 599:\n",
        "                print(\"Received error from server %s\" % err)\n",
        "                print(\"Attempt %i of 3\" % attempt)\n",
        "                time.sleep(15)\n",
        "            else:\n",
        "                raise\n",
        "    if (fetch_handle):\n",
        "        #print(fetch_handle)            \n",
        "        data = fetch_handle.read()\n",
        "        print(data)\n",
        "        fetch_handle.close()\n"
      ]
    },
    {
      "cell_type": "code",
      "execution_count": 74,
      "metadata": {},
      "outputs": [
        {
          "name": "stderr",
          "output_type": "stream",
          "text": [
            "C:\\Users\\60053972\\AppData\\Local\\Temp\\ipykernel_4248\\4157096100.py:1: FutureWarning: The frame.append method is deprecated and will be removed from pandas in a future version. Use pandas.concat instead.\n",
            "  pd.read_csv('final.csv').append({'Unnamed: 0': 'rs', 'CTNNB1': int(eSresult['Count'])}, ignore_index = True)\n"
          ]
        },
        {
          "data": {
            "text/html": [
              "<div>\n",
              "<style scoped>\n",
              "    .dataframe tbody tr th:only-of-type {\n",
              "        vertical-align: middle;\n",
              "    }\n",
              "\n",
              "    .dataframe tbody tr th {\n",
              "        vertical-align: top;\n",
              "    }\n",
              "\n",
              "    .dataframe thead th {\n",
              "        text-align: right;\n",
              "    }\n",
              "</style>\n",
              "<table border=\"1\" class=\"dataframe\">\n",
              "  <thead>\n",
              "    <tr style=\"text-align: right;\">\n",
              "      <th></th>\n",
              "      <th>Unnamed: 0</th>\n",
              "      <th>CTNNB1</th>\n",
              "    </tr>\n",
              "  </thead>\n",
              "  <tbody>\n",
              "    <tr>\n",
              "      <th>0</th>\n",
              "      <td>id</td>\n",
              "      <td>1499</td>\n",
              "    </tr>\n",
              "    <tr>\n",
              "      <th>1</th>\n",
              "      <td>accession</td>\n",
              "      <td>NC_000003</td>\n",
              "    </tr>\n",
              "    <tr>\n",
              "      <th>2</th>\n",
              "      <td>version</td>\n",
              "      <td>12</td>\n",
              "    </tr>\n",
              "    <tr>\n",
              "      <th>3</th>\n",
              "      <td>interval_from</td>\n",
              "      <td>41199505</td>\n",
              "    </tr>\n",
              "    <tr>\n",
              "      <th>4</th>\n",
              "      <td>interval_to</td>\n",
              "      <td>41240443</td>\n",
              "    </tr>\n",
              "    <tr>\n",
              "      <th>5</th>\n",
              "      <td>prot.seq.example</td>\n",
              "      <td>MATQADLMELDMAMEPDRKAAVSHWQQQSYLDSGIHSGATTTAPSL...</td>\n",
              "    </tr>\n",
              "    <tr>\n",
              "      <th>6</th>\n",
              "      <td>gr_acid_num</td>\n",
              "      <td>781</td>\n",
              "    </tr>\n",
              "    <tr>\n",
              "      <th>7</th>\n",
              "      <td>num_of_transcripts</td>\n",
              "      <td>14</td>\n",
              "    </tr>\n",
              "    <tr>\n",
              "      <th>8</th>\n",
              "      <td>rs</td>\n",
              "      <td>59</td>\n",
              "    </tr>\n",
              "  </tbody>\n",
              "</table>\n",
              "</div>"
            ],
            "text/plain": [
              "           Unnamed: 0                                             CTNNB1\n",
              "0                  id                                               1499\n",
              "1           accession                                          NC_000003\n",
              "2             version                                                 12\n",
              "3       interval_from                                           41199505\n",
              "4         interval_to                                           41240443\n",
              "5    prot.seq.example  MATQADLMELDMAMEPDRKAAVSHWQQQSYLDSGIHSGATTTAPSL...\n",
              "6         gr_acid_num                                                781\n",
              "7  num_of_transcripts                                                 14\n",
              "8                  rs                                                 59"
            ]
          },
          "execution_count": 74,
          "metadata": {},
          "output_type": "execute_result"
        }
      ],
      "source": [
        "# Выведем итоговую таблицу\n",
        "pd.read_csv('final.csv').append({'Unnamed: 0': 'rs', 'CTNNB1': int(eSresult['Count'])}, ignore_index = True)"
      ]
    },
    {
      "cell_type": "code",
      "execution_count": null,
      "metadata": {},
      "outputs": [],
      "source": []
    }
  ],
  "metadata": {
    "colab": {
      "provenance": []
    },
    "kernelspec": {
      "display_name": "evn_study",
      "language": "python",
      "name": "python3"
    },
    "language_info": {
      "codemirror_mode": {
        "name": "ipython",
        "version": 3
      },
      "file_extension": ".py",
      "mimetype": "text/x-python",
      "name": "python",
      "nbconvert_exporter": "python",
      "pygments_lexer": "ipython3",
      "version": "3.10.8"
    },
    "vscode": {
      "interpreter": {
        "hash": "c32056d40ffc19302ecf5caec6eda07ec17361e4f528ba651bf6c030d102053f"
      }
    }
  },
  "nbformat": 4,
  "nbformat_minor": 0
}
